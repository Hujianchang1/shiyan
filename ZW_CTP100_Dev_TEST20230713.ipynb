{
 "cells": [
  {
   "cell_type": "code",
   "execution_count": 1,
   "id": "447d6a16",
   "metadata": {},
   "outputs": [],
   "source": [
    "# 导入设备驱动\n",
    "from CTP100_Dev_20230713 import ZW_CTP100_Dev"
   ]
  },
  {
   "cell_type": "code",
   "execution_count": 2,
   "id": "acfa42cb",
   "metadata": {},
   "outputs": [],
   "source": [
    "# 网络连接CTP200设备\n",
    "# 确保控制计算机包含目标CTP200设备的默认IP网络端内IP地址\n",
    "dev = ZW_CTP100_Dev('192.168.4.200')"
   ]
  },
  {
   "cell_type": "code",
   "execution_count": 7,
   "id": "3961bf24",
   "metadata": {},
   "outputs": [],
   "source": [
    "# 设定设备采样模式，默认参数为2，参考时钟10MHz输入扇出模式\n",
    "# 一般不需要运行此段设置\n",
    "# 参考10MHz时钟输入SMA插头为REF-IN\n",
    "dev.system_sampling(2)"
   ]
  },
  {
   "cell_type": "code",
   "execution_count": 3,
   "id": "e30c390c",
   "metadata": {},
   "outputs": [
    {
     "data": {
      "text/plain": [
       "'ok'"
      ]
     },
     "execution_count": 3,
     "metadata": {},
     "output_type": "execute_result"
    }
   ],
   "source": [
    "# 本段测试设定10路Trig输出信号在内部trig基础上，逐个通道增加延迟输出，用于测试各路Trig out效果和通道编号是否正确\n",
    "# SMA插头为To-1至To-10共十路\n",
    "\n",
    "# 各路触发输出延迟，0.8us的倍数，内部以1.25MHz时钟生成trig delay\n",
    "trigger_time = 0\n",
    "\n",
    "# 设定10路Trig out通道，在内部Trig信号驱动下，分别增加0.8us额外延迟输出\n",
    "# trigger_source 0表示内部触发源，1表示外部触发信号输入\n",
    "# trigger_continue 0表示输出trigger_times个trig信号后结束，1表示不受trigger_times次数控制，持续无限制输出\n",
    "# trigger_block_en\n",
    "# trigger_ref 001 参考上升沿，101参考下降沿，011捕获上升沿，111捕获下降沿，000正常内部输出或外部bypass输出\n",
    "# trigger_times 设定内部生成trig信号数量，在trigger_continue为0情况下有效\n",
    "# trigger_block_en 通道使能，逐个通道控制trig通道输出的开关\n",
    "# trigger_us 内部trig生成模块周期，us为单位，也就是说如果设定参数1000等于1kHz频率Trig out信号生成\n",
    "# trigger_delay 触发信号延迟，在外触发引导下，扇出Trig信号的延迟，0.8us倍数，例如0.8us、1.6us\n",
    "\n",
    "trigger_parameter = []\n",
    "for i in range(11):\n",
    "    trigger_parameter.append({'trigger_source':0,'trigger_continue':1,'trigger_block_en':1,'trigger_ref':0,\n",
    "                              'trigger_times':1000,'trigger_us':200,'trigger_delay':i*trigger_time})\n",
    "\n",
    "# 重新配置参数生效之前，先关闭所有通道trig输出\n",
    "dev.trigger_close()\n",
    "\n",
    "# 按照先前设定的各个通道trig工作参数，逐个通道进行参数写入\n",
    "for trigger_ch in range(11):\n",
    "    dev.trigger_ctrl(trigger_ch+1,trigger_parameter[trigger_ch])\n",
    "\n",
    "# 开启trig通道输出使能\n",
    "dev.trigger_open()"
   ]
  },
  {
   "cell_type": "code",
   "execution_count": 27,
   "id": "0c3011e7",
   "metadata": {},
   "outputs": [
    {
     "data": {
      "text/plain": [
       "'ok'"
      ]
     },
     "execution_count": 27,
     "metadata": {},
     "output_type": "execute_result"
    }
   ],
   "source": [
    "# 本段测试设定10路Trig输出信号在外部Trig-IN基础上直接扇出，各路延迟相同\n",
    "# SMA插头为To-1至To-10共十路\n",
    "\n",
    "# 设定10路Trig out通道，在外部Trig-IN信号驱动下，直接扇出输出\n",
    "# trigger_source 0表示内部触发源，1表示外部触发信号输入（SMA插头为Trig-IN）\n",
    "# trigger_continue 0表示输出trigger_times个trig信号后结束，1表示不受trigger_times次数控制，持续无限制输出\n",
    "# trigger_block_en\n",
    "# trigger_ref 001 参考上升沿，101参考下降沿，011捕获上升沿，111捕获下降沿，000正常内部输出或外部bypass输出\n",
    "# trigger_times 设定内部生成trig信号数量，在trigger_continue为0情况下有效\n",
    "# trigger_block_en 通道使能，逐个通道控制trig通道输出的开关\n",
    "# trigger_us 内部trig生成模块周期，us为单位，也就是说如果设定参数1000等于1kHz频率Trig out信号生成\n",
    "# trigger_delay 触发信号延迟，在外触发引导下，扇出Trig信号的延迟，0.8us倍数，例如0.8us、1.6us\n",
    "\n",
    "trigger_parameter = []\n",
    "for i in range(20):\n",
    "    trigger_parameter.append({'trigger_source':1,'trigger_continue':1,'trigger_block_en':1,'trigger_ref':0,\n",
    "                              'trigger_times':1000,'trigger_us':200,'trigger_delay':0})\n",
    "\n",
    "# 重新配置参数生效之前，先关闭所有通道trig输出\n",
    "dev.trigger_close()\n",
    "\n",
    "# 按照先前设定的各个通道trig工作参数，逐个通道进行参数写入\n",
    "for trigger_ch in range(20):\n",
    "    dev.trigger_ctrl(trigger_ch+1,trigger_parameter[trigger_ch])\n",
    "\n",
    "# 开启trig通道输出使能\n",
    "dev.trigger_open()"
   ]
  },
  {
   "cell_type": "code",
   "execution_count": 25,
   "id": "e8a57682",
   "metadata": {},
   "outputs": [
    {
     "data": {
      "text/plain": [
       "'ok'"
      ]
     },
     "execution_count": 25,
     "metadata": {},
     "output_type": "execute_result"
    }
   ],
   "source": [
    "# 本段测试关闭所有十路Trig输出\n",
    "# SMA插头为To-1至To-10共十路\n",
    "\n",
    "# 设定10路Trig out通道，在外部Trig-IN信号驱动下，直接扇出输出\n",
    "# trigger_source 0表示内部触发源，1表示外部触发信号输入（SMA插头为Trig-IN）\n",
    "# trigger_continue 0表示输出trigger_times个trig信号后结束，1表示不受trigger_times次数控制，持续无限制输出\n",
    "# trigger_block_en\n",
    "# trigger_ref 001 参考上升沿，101参考下降沿，011捕获上升沿，111捕获下降沿，000正常内部输出或外部bypass输出\n",
    "# trigger_times 设定内部生成trig信号数量，在trigger_continue为0情况下有效\n",
    "# trigger_block_en 通道使能，逐个通道控制trig通道输出的开关\n",
    "# trigger_us 内部trig生成模块周期，us为单位，也就是说如果设定参数1000等于1kHz频率Trig out信号生成\n",
    "# trigger_delay 触发信号延迟，在外触发引导下，扇出Trig信号的延迟，0.8us倍数，例如0.8us、1.6us\n",
    "\n",
    "trigger_parameter = []\n",
    "for i in range(11):\n",
    "    trigger_parameter.append({'trigger_source':1,'trigger_continue':0,'trigger_block_en':1,'trigger_ref':0,\n",
    "                              'trigger_times':1000,'trigger_us':1000,'trigger_delay':0})\n",
    "\n",
    "# 重新配置参数生效之前，先关闭所有通道trig输出\n",
    "dev.trigger_close()\n",
    "\n",
    "# 按照先前设定的各个通道trig工作参数，逐个通道进行参数写入\n",
    "for trigger_ch in range(11):\n",
    "\n",
    "    dev.trigger_ctrl(trigger_ch+1,trigger_parameter[trigger_ch])\n",
    "\n",
    "# 开启trig通道输出使能\n",
    "dev.trigger_open()"
   ]
  },
  {
   "cell_type": "code",
   "execution_count": 5,
   "id": "a481f6c5",
   "metadata": {},
   "outputs": [
    {
     "name": "stdout",
     "output_type": "stream",
     "text": [
      "[['ZW-CTP100', '192.168.4.200', '0:10:35:240:0:18']]\n"
     ]
    },
    {
     "data": {
      "text/plain": [
       "[['ZW-CTP100', '192.168.4.200', '0:10:35:240:0:18']]"
      ]
     },
     "execution_count": 5,
     "metadata": {},
     "output_type": "execute_result"
    }
   ],
   "source": [
    "# 设备当前IP地址变量\n",
    "current_ip = '192.168.1.200'\n",
    "\n",
    "# 如果想重新设定设备的IP地址变量\n",
    "target_ip = '192.168.4.200'\n",
    "\n",
    "# 如果想重新设定设备MAC地址变量\n",
    "target_mac = '00.10.35.240.00.18'\n",
    "# target_mac = '00.10.35.240.00.19'\n",
    "\n",
    "# 设定设备到新的IP地址，参数当前IP在前，目标IP地址在后\n",
    "dev.set_dev_ip(current_ip,target_ip)\n",
    "\n",
    "# 设定设备到新的MAC地址，参数当前IP在前，目标MAC地址在后\n",
    "dev.set_dev_mac(current_ip,target_mac)\n",
    "\n",
    "# 根据设备地址，获取设备信息，返回设备名称、设备IP以及设备MAC地址\n",
    "dev.read_system_ip(current_ip)"
   ]
  },
  {
   "cell_type": "code",
   "execution_count": 4,
   "id": "30eb2518",
   "metadata": {},
   "outputs": [
    {
     "name": "stdout",
     "output_type": "stream",
     "text": [
      "[['ZW-CTP100', '192.168.1.200', '0:10:35:240:0:18']]\n"
     ]
    },
    {
     "data": {
      "text/plain": [
       "[['ZW-CTP100', '192.168.1.200', '0:10:35:240:0:18']]"
      ]
     },
     "execution_count": 4,
     "metadata": {},
     "output_type": "execute_result"
    }
   ],
   "source": [
    "# 设备当前IP地址变量\n",
    "current_ip = '192.168.1.200'\n",
    "dev.read_system_ip(current_ip)"
   ]
  }
 ],
 "metadata": {
  "kernelspec": {
   "display_name": "Python 3.9.12 ('qcodes')",
   "language": "python",
   "name": "python3"
  },
  "language_info": {
   "codemirror_mode": {
    "name": "ipython",
    "version": 3
   },
   "file_extension": ".py",
   "mimetype": "text/x-python",
   "name": "python",
   "nbconvert_exporter": "python",
   "pygments_lexer": "ipython3",
   "version": "3.9.12"
  },
  "vscode": {
   "interpreter": {
    "hash": "1b64c7d4b42b242c92a9da926bb3a0e3ecc04e6e6cf09f13c50c3e2e9ab60aab"
   }
  }
 },
 "nbformat": 4,
 "nbformat_minor": 5
}
