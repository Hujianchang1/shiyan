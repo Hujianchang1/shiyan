{
 "cells": [
  {
   "cell_type": "markdown",
   "metadata": {},
   "source": [
    "### 1.导入模块"
   ]
  },
  {
   "cell_type": "code",
   "execution_count": 2,
   "metadata": {},
   "outputs": [],
   "source": [
    "import numpy as np\n",
    "from DC2000_16CH_AWG import  DC2000MlutiChannelDevice"
   ]
  },
  {
   "cell_type": "markdown",
   "metadata": {},
   "source": [
    "### 2.连接仪器"
   ]
  },
  {
   "cell_type": "code",
   "execution_count": 5,
   "metadata": {},
   "outputs": [
    {
     "name": "stdout",
     "output_type": "stream",
     "text": [
      "Connection error: timed out\n"
     ]
    },
    {
     "ename": "TimeoutError",
     "evalue": "timed out",
     "output_type": "error",
     "traceback": [
      "\u001b[1;31m---------------------------------------------------------------------------\u001b[0m",
      "\u001b[1;31mTimeoutError\u001b[0m                              Traceback (most recent call last)",
      "Cell \u001b[1;32mIn[5], line 1\u001b[0m\n\u001b[1;32m----> 1\u001b[0m device \u001b[38;5;241m=\u001b[39m \u001b[43mDC2000MlutiChannelDevice\u001b[49m\u001b[43m(\u001b[49m\u001b[38;5;124;43m\"\u001b[39;49m\u001b[38;5;124;43mDC2000\u001b[39;49m\u001b[38;5;124;43m\"\u001b[39;49m\u001b[43m,\u001b[49m\u001b[43m \u001b[49m\u001b[38;5;124;43m\"\u001b[39;49m\u001b[38;5;124;43m192.168.1.201\u001b[39;49m\u001b[38;5;124;43m\"\u001b[39;49m\u001b[43m)\u001b[49m\n",
      "File \u001b[1;32md:\\Ancona\\envs\\myenv\\Lib\\site-packages\\qcodes\\instrument\\instrument_meta.py:36\u001b[0m, in \u001b[0;36mInstrumentMeta.__call__\u001b[1;34m(cls, *args, **kwargs)\u001b[0m\n\u001b[0;32m     31\u001b[0m \u001b[38;5;28;01mdef\u001b[39;00m \u001b[38;5;21m__call__\u001b[39m(\u001b[38;5;28mcls\u001b[39m, \u001b[38;5;241m*\u001b[39margs: Any, \u001b[38;5;241m*\u001b[39m\u001b[38;5;241m*\u001b[39mkwargs: Any) \u001b[38;5;241m-\u001b[39m\u001b[38;5;241m>\u001b[39m Any:\n\u001b[0;32m     32\u001b[0m \u001b[38;5;250m    \u001b[39m\u001b[38;5;124;03m\"\"\"\u001b[39;00m\n\u001b[0;32m     33\u001b[0m \u001b[38;5;124;03m    Overloads `type.__call__` to add code that runs only if __init__ completes\u001b[39;00m\n\u001b[0;32m     34\u001b[0m \u001b[38;5;124;03m    successfully.\u001b[39;00m\n\u001b[0;32m     35\u001b[0m \u001b[38;5;124;03m    \"\"\"\u001b[39;00m\n\u001b[1;32m---> 36\u001b[0m     new_inst \u001b[38;5;241m=\u001b[39m \u001b[38;5;28;43msuper\u001b[39;49m\u001b[43m(\u001b[49m\u001b[43m)\u001b[49m\u001b[38;5;241;43m.\u001b[39;49m\u001b[38;5;21;43m__call__\u001b[39;49m\u001b[43m(\u001b[49m\u001b[38;5;241;43m*\u001b[39;49m\u001b[43margs\u001b[49m\u001b[43m,\u001b[49m\u001b[43m \u001b[49m\u001b[38;5;241;43m*\u001b[39;49m\u001b[38;5;241;43m*\u001b[39;49m\u001b[43mkwargs\u001b[49m\u001b[43m)\u001b[49m\n\u001b[0;32m     37\u001b[0m     is_abstract \u001b[38;5;241m=\u001b[39m new_inst\u001b[38;5;241m.\u001b[39m_is_abstract()\n\u001b[0;32m     38\u001b[0m     \u001b[38;5;28;01mif\u001b[39;00m is_abstract:\n",
      "File \u001b[1;32me:\\ZW_DC_driver\\DC2000_16CH_AWG.py:725\u001b[0m, in \u001b[0;36mDC2000MlutiChannelDevice.__init__\u001b[1;34m(self, name, ip_addr, **kwargs)\u001b[0m\n\u001b[0;32m    722\u001b[0m \u001b[38;5;28mself\u001b[39m\u001b[38;5;241m.\u001b[39madd_submodule(\u001b[38;5;124m'\u001b[39m\u001b[38;5;124mchannels\u001b[39m\u001b[38;5;124m'\u001b[39m, ChannelList(\u001b[38;5;28mself\u001b[39m, \u001b[38;5;124m'\u001b[39m\u001b[38;5;124mChannels\u001b[39m\u001b[38;5;124m'\u001b[39m, SingleChannel, snapshotable\u001b[38;5;241m=\u001b[39m\u001b[38;5;28;01mFalse\u001b[39;00m))\n\u001b[0;32m    724\u001b[0m \u001b[38;5;28;01mfor\u001b[39;00m i \u001b[38;5;129;01min\u001b[39;00m np\u001b[38;5;241m.\u001b[39marange(\u001b[38;5;241m1\u001b[39m, \u001b[38;5;241m17\u001b[39m, \u001b[38;5;241m1\u001b[39m):\n\u001b[1;32m--> 725\u001b[0m     channel \u001b[38;5;241m=\u001b[39m \u001b[43mSingleChannel\u001b[49m\u001b[43m(\u001b[49m\u001b[38;5;28;43mself\u001b[39;49m\u001b[43m,\u001b[49m\u001b[43m \u001b[49m\u001b[38;5;124;43mf\u001b[39;49m\u001b[38;5;124;43m'\u001b[39;49m\u001b[38;5;124;43mch\u001b[39;49m\u001b[38;5;132;43;01m{\u001b[39;49;00m\u001b[43mi\u001b[49m\u001b[38;5;132;43;01m}\u001b[39;49;00m\u001b[38;5;124;43m'\u001b[39;49m\u001b[43m,\u001b[49m\u001b[43m \u001b[49m\u001b[43mi\u001b[49m\u001b[43m)\u001b[49m\n\u001b[0;32m    726\u001b[0m     \u001b[38;5;28mself\u001b[39m\u001b[38;5;241m.\u001b[39mchannels\u001b[38;5;241m.\u001b[39mappend(channel)\n\u001b[0;32m    727\u001b[0m     \u001b[38;5;28msetattr\u001b[39m(\u001b[38;5;28mself\u001b[39m, \u001b[38;5;124mf\u001b[39m\u001b[38;5;124m'\u001b[39m\u001b[38;5;124mch\u001b[39m\u001b[38;5;132;01m{\u001b[39;00mi\u001b[38;5;132;01m}\u001b[39;00m\u001b[38;5;124m'\u001b[39m, channel)\n",
      "File \u001b[1;32me:\\ZW_DC_driver\\DC2000_16CH_AWG.py:347\u001b[0m, in \u001b[0;36mSingleChannel.__init__\u001b[1;34m(self, parent, name, channel_number, **kwargs)\u001b[0m\n\u001b[0;32m    345\u001b[0m \u001b[38;5;28mself\u001b[39m\u001b[38;5;241m.\u001b[39mverify_k \u001b[38;5;241m=\u001b[39m \u001b[38;5;241m1\u001b[39m\n\u001b[0;32m    346\u001b[0m \u001b[38;5;28mself\u001b[39m\u001b[38;5;241m.\u001b[39mverify_b \u001b[38;5;241m=\u001b[39m \u001b[38;5;241m0\u001b[39m\n\u001b[1;32m--> 347\u001b[0m \u001b[38;5;28;43mself\u001b[39;49m\u001b[38;5;241;43m.\u001b[39;49m\u001b[43m_get_verify\u001b[49m\u001b[43m(\u001b[49m\u001b[43m)\u001b[49m\n\u001b[0;32m    350\u001b[0m \u001b[38;5;28mself\u001b[39m\u001b[38;5;241m.\u001b[39madd_parameter(\u001b[38;5;124m'\u001b[39m\u001b[38;5;124moutput_state\u001b[39m\u001b[38;5;124m'\u001b[39m,\n\u001b[0;32m    351\u001b[0m                     label\u001b[38;5;241m=\u001b[39m\u001b[38;5;124mf\u001b[39m\u001b[38;5;124m'\u001b[39m\u001b[38;5;124mChannel \u001b[39m\u001b[38;5;132;01m{\u001b[39;00mchannel_number\u001b[38;5;132;01m}\u001b[39;00m\u001b[38;5;124m open\u001b[39m\u001b[38;5;124m'\u001b[39m,\n\u001b[0;32m    352\u001b[0m                     set_cmd\u001b[38;5;241m=\u001b[39m\u001b[38;5;28mself\u001b[39m\u001b[38;5;241m.\u001b[39m_set_output_state,\n\u001b[0;32m    353\u001b[0m                     get_cmd\u001b[38;5;241m=\u001b[39m\u001b[38;5;28mself\u001b[39m\u001b[38;5;241m.\u001b[39m_get_output_state,\n\u001b[0;32m    354\u001b[0m                     vals\u001b[38;5;241m=\u001b[39mStrings(),\n\u001b[0;32m    355\u001b[0m                     docstring\u001b[38;5;241m=\u001b[39m\u001b[38;5;124m'\u001b[39m\u001b[38;5;124mopen or close this channel\u001b[39m\u001b[38;5;124m'\u001b[39m)\n\u001b[0;32m    357\u001b[0m \u001b[38;5;28mself\u001b[39m\u001b[38;5;241m.\u001b[39madd_parameter(\u001b[38;5;124m'\u001b[39m\u001b[38;5;124mvoltage\u001b[39m\u001b[38;5;124m'\u001b[39m,\n\u001b[0;32m    358\u001b[0m                     label\u001b[38;5;241m=\u001b[39m\u001b[38;5;124mf\u001b[39m\u001b[38;5;124m'\u001b[39m\u001b[38;5;124mChannel \u001b[39m\u001b[38;5;132;01m{\u001b[39;00mchannel_number\u001b[38;5;132;01m}\u001b[39;00m\u001b[38;5;124m Voltage\u001b[39m\u001b[38;5;124m'\u001b[39m,\n\u001b[0;32m    359\u001b[0m                     unit\u001b[38;5;241m=\u001b[39m\u001b[38;5;124m'\u001b[39m\u001b[38;5;124mV\u001b[39m\u001b[38;5;124m'\u001b[39m,\n\u001b[1;32m   (...)\u001b[0m\n\u001b[0;32m    362\u001b[0m                     vals\u001b[38;5;241m=\u001b[39mNumbers(\u001b[38;5;241m-\u001b[39m\u001b[38;5;241m10\u001b[39m,\u001b[38;5;241m10\u001b[39m),\n\u001b[0;32m    363\u001b[0m                     docstring\u001b[38;5;241m=\u001b[39m\u001b[38;5;124m'\u001b[39m\u001b[38;5;124mget/set voltage for this channel\u001b[39m\u001b[38;5;124m'\u001b[39m)\n",
      "File \u001b[1;32me:\\ZW_DC_driver\\DC2000_16CH_AWG.py:702\u001b[0m, in \u001b[0;36mSingleChannel._get_verify\u001b[1;34m(self)\u001b[0m\n\u001b[0;32m    700\u001b[0m cmd \u001b[38;5;241m=\u001b[39m get_verify_cmd()\n\u001b[0;32m    701\u001b[0m cmd\u001b[38;5;241m.\u001b[39mch \u001b[38;5;241m=\u001b[39m \u001b[38;5;28mself\u001b[39m\u001b[38;5;241m.\u001b[39mchannel_number\n\u001b[1;32m--> 702\u001b[0m \u001b[38;5;28;43mself\u001b[39;49m\u001b[38;5;241;43m.\u001b[39;49m\u001b[43m_parent\u001b[49m\u001b[38;5;241;43m.\u001b[39;49m\u001b[43mzwdx_send\u001b[49m\u001b[43m(\u001b[49m\u001b[43mcmd\u001b[49m\u001b[38;5;241;43m.\u001b[39;49m\u001b[43mcreate_pack\u001b[49m\u001b[43m(\u001b[49m\u001b[43m)\u001b[49m\u001b[43m)\u001b[49m\n\u001b[0;32m    703\u001b[0m kb \u001b[38;5;241m=\u001b[39m \u001b[38;5;28mself\u001b[39m\u001b[38;5;241m.\u001b[39m_parent\u001b[38;5;241m.\u001b[39mzwdx_recv(\u001b[38;5;241m16\u001b[39m)\n\u001b[0;32m    704\u001b[0m kbarray \u001b[38;5;241m=\u001b[39m np\u001b[38;5;241m.\u001b[39mfrombuffer(kb, np\u001b[38;5;241m.\u001b[39mdouble)\n",
      "File \u001b[1;32me:\\ZW_DC_driver\\DC2000_16CH_AWG.py:750\u001b[0m, in \u001b[0;36mDC2000MlutiChannelDevice.zwdx_send\u001b[1;34m(self, data)\u001b[0m\n\u001b[0;32m    749\u001b[0m \u001b[38;5;28;01mdef\u001b[39;00m \u001b[38;5;21mzwdx_send\u001b[39m(\u001b[38;5;28mself\u001b[39m, data):\n\u001b[1;32m--> 750\u001b[0m     \u001b[38;5;28;43mself\u001b[39;49m\u001b[38;5;241;43m.\u001b[39;49m\u001b[43ms\u001b[49m\u001b[38;5;241;43m.\u001b[39;49m\u001b[43msend\u001b[49m\u001b[43m(\u001b[49m\u001b[43mdata\u001b[49m\u001b[43m)\u001b[49m\n",
      "\u001b[1;31mTimeoutError\u001b[0m: timed out"
     ]
    }
   ],
   "source": [
    "device = DC2000MlutiChannelDevice(\"DC2000\", \"192.168.1.201\")"
   ]
  },
  {
   "cell_type": "code",
   "execution_count": 3,
   "metadata": {},
   "outputs": [],
   "source": [
    "device.enable_global_trig(True)     # 设备使能全局触发"
   ]
  },
  {
   "cell_type": "code",
   "execution_count": 4,
   "metadata": {},
   "outputs": [
    {
     "data": {
      "text/plain": [
       "['OFF',\n",
       " 'OFF',\n",
       " 'OFF',\n",
       " 'OFF',\n",
       " 'OFF',\n",
       " 'OFF',\n",
       " 'OFF',\n",
       " 'OFF',\n",
       " 'OFF',\n",
       " 'OFF',\n",
       " 'OFF',\n",
       " 'OFF',\n",
       " 'OFF',\n",
       " 'OFF',\n",
       " 'OFF',\n",
       " 'OFF']"
      ]
     },
     "execution_count": 4,
     "metadata": {},
     "output_type": "execute_result"
    }
   ],
   "source": [
    "device.all_ch_status()              # 获取所有通道状态"
   ]
  },
  {
   "cell_type": "markdown",
   "metadata": {},
   "source": [
    "#### 3.1  NORMAL模式"
   ]
  },
  {
   "cell_type": "code",
   "execution_count": 8,
   "metadata": {},
   "outputs": [],
   "source": [
    "device.ch1.mode('NORMAL')           # 设置模式"
   ]
  },
  {
   "cell_type": "code",
   "execution_count": 9,
   "metadata": {},
   "outputs": [],
   "source": [
    "device.ch1.slope(10000)             # 设置CH1 斜率，单位：mV/s"
   ]
  },
  {
   "cell_type": "code",
   "execution_count": 10,
   "metadata": {},
   "outputs": [],
   "source": [
    "device.ch1.pwm(False)                # 使能CH1 PWM 功能"
   ]
  },
  {
   "cell_type": "code",
   "execution_count": 11,
   "metadata": {},
   "outputs": [],
   "source": [
    "device.ch1.output_state('ON')       # 打开CH1"
   ]
  },
  {
   "cell_type": "code",
   "execution_count": 12,
   "metadata": {},
   "outputs": [],
   "source": [
    "device.ch1.voltage(-10)              # 设置CH1 电压，单位：V"
   ]
  },
  {
   "cell_type": "code",
   "execution_count": 13,
   "metadata": {},
   "outputs": [],
   "source": [
    "device.ch1.output_state('OFF')      # 关闭CH1"
   ]
  },
  {
   "cell_type": "code",
   "execution_count": null,
   "metadata": {},
   "outputs": [],
   "source": []
  },
  {
   "cell_type": "markdown",
   "metadata": {},
   "source": [
    "#### 3.2  AWG模式"
   ]
  },
  {
   "cell_type": "code",
   "execution_count": 5,
   "metadata": {},
   "outputs": [],
   "source": [
    "device.ch2.mode('AWG')              # 设置模式"
   ]
  },
  {
   "cell_type": "code",
   "execution_count": 6,
   "metadata": {},
   "outputs": [],
   "source": [
    "#以下两种方式二选一\n",
    "\n",
    "# 方式1\n",
    "# point_num = 16384                   # 最大32K\n",
    "# sample_fs = 0.5e+6                  # 采样频率\n",
    "# signal_fs = 0.5e+6/(128*1)          # 信号频率\n",
    "# n = point_num \n",
    "# n = np.arange(n)\n",
    "# y = np.sin(2*np.pi*signal_fs*n/sample_fs) * 0.9             # 满幅值20Vpp, 0.9为幅度系数\n",
    "# wave = np.append(y,0)\n",
    "# device.ch2.wave(wave) \n",
    "# wave_len = int(len(wave))                                         # 下载波形数据\n",
    "# device.ch2.awg_wave_param(np.asarray((1, 2, wave_len)))     # 设置波形参数 param1 :0 连续播放 1：trig 播放 param2:播放次数 \n",
    "\n",
    "# 方式2\n",
    "mode = 0x02     # 01 ：sine ；02：square； 03:triangle 04:sawtooth 05 : pulse\n",
    "duty = 0.5       # 脉冲模式占空比，范围：0< plus < 1（仅用于脉冲输出模式）\n",
    "freq = 1000     # 输出频率 单位：Hz\n",
    "amp = 2500      # 输出幅度 单位:mV\n",
    "phase = 0       # 相位 单位：°（仅用于sine波输出模式）\n",
    "offset = 0      # 偏置 单位:mV\n",
    "device.ch2.predefined_wave_param(np.asarray((mode, duty, freq, amp, phase, offset)))     # 预定义波形数据 "
   ]
  },
  {
   "cell_type": "code",
   "execution_count": 7,
   "metadata": {},
   "outputs": [],
   "source": [
    "device.ch2.output_state('ON')       # 打开CH2"
   ]
  },
  {
   "cell_type": "code",
   "execution_count": 8,
   "metadata": {},
   "outputs": [],
   "source": [
    "device.ch2.enable_trig(True)        # CH2使能触发"
   ]
  },
  {
   "cell_type": "code",
   "execution_count": 9,
   "metadata": {},
   "outputs": [],
   "source": [
    "device.soft_trig(np.asarray((1,1))) # 软触发 （数量，间隔s）"
   ]
  },
  {
   "cell_type": "code",
   "execution_count": 19,
   "metadata": {},
   "outputs": [],
   "source": [
    "device.ch2.output_state('OFF')      # 关闭CH2"
   ]
  },
  {
   "cell_type": "markdown",
   "metadata": {},
   "source": [
    "#### 3.2  SEQUENCE模式"
   ]
  },
  {
   "cell_type": "code",
   "execution_count": 20,
   "metadata": {},
   "outputs": [],
   "source": [
    "device.ch3.slope(100000)             # 设置CH1 斜率，单位：mV/s"
   ]
  },
  {
   "cell_type": "code",
   "execution_count": 21,
   "metadata": {},
   "outputs": [],
   "source": [
    "device.ch3.output_state('ON')       # 打开CH3\n"
   ]
  },
  {
   "cell_type": "code",
   "execution_count": 22,
   "metadata": {},
   "outputs": [],
   "source": [
    "device.ch3.mode('SEQUENCE')                         # 设置模式"
   ]
  },
  {
   "cell_type": "code",
   "execution_count": 23,
   "metadata": {},
   "outputs": [],
   "source": [
    "device.ch3.sequence([-9,-6,-3,0,3,6,9])             # 设置CH3电压序列"
   ]
  },
  {
   "cell_type": "code",
   "execution_count": 24,
   "metadata": {},
   "outputs": [],
   "source": [
    "device.ch3.sequence([-9,-6,-3,0,3,6,9])             # 设置CH3电压序列"
   ]
  },
  {
   "cell_type": "code",
   "execution_count": 25,
   "metadata": {},
   "outputs": [],
   "source": [
    "device.ch3.seq_play_pos(np.asarray((1,7)))          # 设置CH3序列播放起止位置，会使能相应通道的触发使能"
   ]
  },
  {
   "cell_type": "code",
   "execution_count": 26,
   "metadata": {},
   "outputs": [],
   "source": [
    "device.soft_trig(np.asarray((1,1))) # 软触发 （数量，间隔s）\n",
    "\n",
    "# 或者开启外部触发"
   ]
  },
  {
   "cell_type": "code",
   "execution_count": 27,
   "metadata": {},
   "outputs": [],
   "source": [
    "device.ch3.output_state('OFF')      # 关闭CH3\n",
    "device.ch3.enable_trig(False)        # CH2使能触发"
   ]
  },
  {
   "cell_type": "code",
   "execution_count": null,
   "metadata": {},
   "outputs": [],
   "source": []
  }
 ],
 "metadata": {
  "kernelspec": {
   "display_name": "Python 3.10.14 ('zwdx')",
   "language": "python",
   "name": "python3"
  },
  "language_info": {
   "codemirror_mode": {
    "name": "ipython",
    "version": 3
   },
   "file_extension": ".py",
   "mimetype": "text/x-python",
   "name": "python",
   "nbconvert_exporter": "python",
   "pygments_lexer": "ipython3",
   "version": "3.12.7"
  },
  "vscode": {
   "interpreter": {
    "hash": "2e7a0ca9089127f88fc859369422a44f072f591f0bcf9c7509a86e1e03ab2b27"
   }
  }
 },
 "nbformat": 4,
 "nbformat_minor": 2
}
