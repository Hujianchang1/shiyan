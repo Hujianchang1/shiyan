{
 "cells": [
  {
   "cell_type": "markdown",
   "id": "808b5a95",
   "metadata": {},
   "source": [
    "# 驱动设备"
   ]
  },
  {
   "cell_type": "code",
   "execution_count": 1,
   "id": "209db9f5",
   "metadata": {},
   "outputs": [],
   "source": [
    "import ZW_AWG1000_dds8\n",
    "import numpy as np\n",
    "import time\n",
    "import csv\n",
    "import os\n",
    "from matplotlib import pyplot as plt\n",
    "import datetime"
   ]
  },
  {
   "cell_type": "code",
   "execution_count": 2,
   "id": "66965e7e",
   "metadata": {},
   "outputs": [],
   "source": [
    "handle_data = ZW_AWG1000_dds8.AWG1000()\n",
    "handle_cmd = ZW_AWG1000_dds8.AWG1000()"
   ]
  },
  {
   "cell_type": "code",
   "execution_count": 3,
   "id": "af829d9f",
   "metadata": {
    "scrolled": true
   },
   "outputs": [],
   "source": [
    "handle_cmd.connect(\"192.168.1.100\", 9001)\n",
    "handle_data.connect(\"192.168.1.100\", 9002)"
   ]
  },
  {
   "cell_type": "markdown",
   "id": "d46d3327",
   "metadata": {},
   "source": [
    "# 设置输出模式和触发模式"
   ]
  },
  {
   "cell_type": "code",
   "execution_count": 15,
   "id": "d71040ea",
   "metadata": {},
   "outputs": [
    {
     "data": {
      "text/plain": [
       "True"
      ]
     },
     "execution_count": 15,
     "metadata": {},
     "output_type": "execute_result"
    }
   ],
   "source": [
    "handle_cmd.set_data_source(1, 50, 0)  # 设置数据源\n",
    "#参数1 设置通道 只能设置1 3 5 7 设置1 生效通道1和2，12 34 56 78 通道的模式绑定\n",
    "#参数1 输出频率 ，单位：MHz\n",
    "#参数2 ： 0(默认值):波形需要下载，通过trig播放，（此模式下参数1无意义）。\n",
    "#         1：厂商内部使用（此模式下参数1有意义）\n",
    "#         2：需trig,反复输出下载的波形。（此模式下参数1无意义）\n",
    "#         3: 表示根据用户DDS参数自主生成波形模式（此模式下参数1无意义）\n",
    "#结束"
   ]
  },
  {
   "cell_type": "code",
   "execution_count": 7,
   "id": "ba990d1d",
   "metadata": {},
   "outputs": [
    {
     "data": {
      "text/plain": [
       "True"
      ]
     },
     "execution_count": 7,
     "metadata": {},
     "output_type": "execute_result"
    }
   ],
   "source": [
    "#设置8个mark用作触发源\n",
    "t = 1e6 #单位：ns 设置mark用作trig是trig的周期\n",
    "#ch：设置通道；\n",
    "# mark模式1：mark用作trig,0:mark和输出对齐；\n",
    "# pulse_cnt固定等于t/20表示内部周期信号反转的计数器值用来确定mark输出信号的周期\n",
    "handle_cmd.set_marktrig(ch=1,mark_mode=1,pulse_cnt=int(t/20))\n",
    "time.sleep(0.1)\n",
    "handle_cmd.set_marktrig(ch=2,mark_mode=1,pulse_cnt=int(t/20))\n",
    "time.sleep(0.1)\n",
    "handle_cmd.set_marktrig(ch=3,mark_mode=1,pulse_cnt=int(t/20))\n",
    "time.sleep(0.1)\n",
    "handle_cmd.set_marktrig(ch=4,mark_mode=1,pulse_cnt=int(t/20))\n",
    "time.sleep(0.1)\n",
    "handle_cmd.set_marktrig(ch=5,mark_mode=1,pulse_cnt=int(t/20))\n",
    "time.sleep(0.1)\n",
    "handle_cmd.set_marktrig(ch=6,mark_mode=1,pulse_cnt=int(t/20))\n",
    "time.sleep(0.1)\n",
    "handle_cmd.set_marktrig(ch=7,mark_mode=1,pulse_cnt=int(t/20))\n",
    "time.sleep(0.1)\n",
    "handle_cmd.set_marktrig(ch=8,mark_mode=1,pulse_cnt=int(t/20))\n"
   ]
  },
  {
   "cell_type": "code",
   "execution_count": 8,
   "id": "333364ae",
   "metadata": {},
   "outputs": [
    {
     "data": {
      "text/plain": [
       "True"
      ]
     },
     "execution_count": 8,
     "metadata": {},
     "output_type": "execute_result"
    }
   ],
   "source": [
    "#关闭mark触发源\n",
    "handle_cmd.set_marktrig(trig_en = 0)\n"
   ]
  },
  {
   "cell_type": "code",
   "execution_count": 9,
   "id": "9890bf81",
   "metadata": {},
   "outputs": [
    {
     "data": {
      "text/plain": [
       "True"
      ]
     },
     "execution_count": 9,
     "metadata": {},
     "output_type": "execute_result"
    }
   ],
   "source": [
    "#开启mark触发源\n",
    "handle_cmd.set_marktrig(trig_en = 1)"
   ]
  },
  {
   "cell_type": "code",
   "execution_count": 10,
   "id": "eb9c98a4",
   "metadata": {},
   "outputs": [],
   "source": [
    "# 设置通道触发来源\n",
    "#参数1：设置要控制的输出通道\n",
    "#参数2：设置要控制的输出通道的trig信号来源，0表示后面板的trig——in ；1-8表示前面板t1-t8\n",
    "#参数3：收到trig后delay n个416ps开始输出\n",
    "#参数4：mark信号延迟多久输出，mark信号只有7ns脉宽\n",
    "for i in range(1,9,1):\n",
    "    handle_cmd.set_trigger_param(i, 1, 0, 0)  # 设置通道1-8 触发为T1\n"
   ]
  },
  {
   "cell_type": "code",
   "execution_count": null,
   "id": "4ca4c5ee-41a2-455c-b243-e56932f965aa",
   "metadata": {},
   "outputs": [],
   "source": []
  },
  {
   "cell_type": "markdown",
   "id": "256f5a02",
   "metadata": {},
   "source": [
    "# python生成sin波 ：amp[0,1] ,freq(Hz) ,phase ,脉宽（ns）"
   ]
  },
  {
   "cell_type": "code",
   "execution_count": null,
   "id": "4b160ac5",
   "metadata": {},
   "outputs": [],
   "source": [
    "for i in range(1,9,1):\n",
    "    handle_cmd.set_output_mode(i, \"AC\")  # 通道1设置AC模式输出"
   ]
  },
  {
   "cell_type": "code",
   "execution_count": 10,
   "id": "e95daf4e",
   "metadata": {},
   "outputs": [],
   "source": [
    "for i in range(1,9,1):\n",
    "    handle_cmd.set_trigger_param(i, 0, 0, 0)  # 通道1设置触发参数"
   ]
  },
  {
   "cell_type": "code",
   "execution_count": 11,
   "id": "4121ff6b",
   "metadata": {},
   "outputs": [
    {
     "name": "stdout",
     "output_type": "stream",
     "text": [
      "通道1数据下载成功\n",
      "通道2数据下载成功\n",
      "通道3数据下载成功\n",
      "通道4数据下载成功\n",
      "通道5数据下载成功\n",
      "通道6数据下载成功\n",
      "通道7数据下载成功\n",
      "通道8数据下载成功\n"
     ]
    },
    {
     "data": {
      "text/plain": [
       "True"
      ]
     },
     "execution_count": 11,
     "metadata": {},
     "output_type": "execute_result"
    }
   ],
   "source": [
    "handle_cmd.close_channel([1,2,3,4,5,6,7,8])\n",
    "from matplotlib import pyplot as plt\n",
    "wave_data = handle_cmd.sin_wave(1,300e+6,0,800e-9) \n",
    "# plt.plot(wave_data)\n",
    "for i in range(1,9):\n",
    "    status = handle_data.send_waveform_data(wave_data,i)\n",
    "    print(f'通道{i}数据下载成功') if status else print(f'通道{i}数据下载失败')\n",
    "    time.sleep(0.1) \n",
    "handle_cmd.open_channel([1,2,3,4,5,6,7,8])  # 打开通道    "
   ]
  },
  {
   "cell_type": "code",
   "execution_count": 13,
   "id": "7b5a74c8",
   "metadata": {},
   "outputs": [
    {
     "data": {
      "text/plain": [
       "True"
      ]
     },
     "execution_count": 13,
     "metadata": {},
     "output_type": "execute_result"
    }
   ],
   "source": [
    "handle_cmd.close_channel([1,2,3,4,5,6,7,8])  "
   ]
  },
  {
   "cell_type": "markdown",
   "id": "95239908",
   "metadata": {},
   "source": [
    "# python生成DC模式方波脉冲 ：Vset（V） ,脉宽（ns）,通道（有校准系数）"
   ]
  },
  {
   "cell_type": "code",
   "execution_count": 14,
   "id": "c1ee671e",
   "metadata": {},
   "outputs": [],
   "source": [
    "for i in range(1,9,1):\n",
    "    handle_cmd.set_output_mode(i, \"DC\")  # 通道1设置DC模式输出"
   ]
  },
  {
   "cell_type": "code",
   "execution_count": 15,
   "id": "e4ed7d9b",
   "metadata": {},
   "outputs": [],
   "source": [
    "for i in range(1,9,1):\n",
    "    handle_cmd.set_trigger_param(i, 1, 0, 0)  # 通道1设置触发参数"
   ]
  },
  {
   "cell_type": "code",
   "execution_count": null,
   "id": "e470e3fd",
   "metadata": {},
   "outputs": [],
   "source": [
    "handle_cmd.close_channel([1,2,3,4,5,6,7,8])  # 关闭通道\n",
    "from matplotlib import pyplot as plt\n",
    "# plt.plot(wave_data)\n",
    "for i in range(1,9):\n",
    "    wave_data = handle_cmd.pulsewave_gen(2, 600e-6,i)\n",
    "    status = handle_data.send_waveform_data(wave_data,i)\n",
    "    print(f'通道{i}数据下载成功') if status else print(f'通道{i}数据下载失败')\n",
    "    time.sleep(0.1) \n",
    "handle_cmd.open_channel([1,2,3,4,5,6,7,8])   # 打开通道"
   ]
  },
  {
   "cell_type": "code",
   "execution_count": null,
   "id": "fc5af66b",
   "metadata": {},
   "outputs": [],
   "source": [
    "handle_cmd.close_channel([1,2,3,4,5,6,7,8])"
   ]
  },
  {
   "cell_type": "markdown",
   "id": "f9ebbe9b",
   "metadata": {},
   "source": [
    "# 波形序列方式，用户自主生成波形 "
   ]
  },
  {
   "cell_type": "code",
   "execution_count": null,
   "id": "3b943fdd",
   "metadata": {},
   "outputs": [],
   "source": [
    "handle_cmd.set_data_source(1, 50, 3)  # 设置模式为自主波形模式"
   ]
  },
  {
   "cell_type": "code",
   "execution_count": 20,
   "id": "9b46d145",
   "metadata": {},
   "outputs": [],
   "source": [
    "for i in range(1,9,1):\n",
    "    handle_cmd.set_output_mode(i, \"AC\")  # 通道1设置AC模式输出"
   ]
  },
  {
   "cell_type": "code",
   "execution_count": 21,
   "id": "5739ddc9",
   "metadata": {},
   "outputs": [
    {
     "data": {
      "text/plain": [
       "True"
      ]
     },
     "execution_count": 21,
     "metadata": {},
     "output_type": "execute_result"
    }
   ],
   "source": [
    "handle_cmd.close_channel([1,2,3,4,5,6,7,8])  # 关闭通道"
   ]
  },
  {
   "cell_type": "code",
   "execution_count": 22,
   "id": "3f5dadc9",
   "metadata": {},
   "outputs": [],
   "source": [
    "#单通道输出单波形，n个序列\n",
    "trigdelay = [100]\n",
    "paramx1 = []\n",
    "paramx2 = []\n",
    "paramx3 = []\n",
    "paramx4 = []\n",
    "paramx5 = []\n",
    "paramx6 = []\n",
    "paramx7 = []\n",
    "paramx8 = []\n",
    "# paramx1.append([freq, length, amp, phase_offest, win_type, win_len])\n",
    "paramx1.append([20*1e6,1000,60000,90,1,400])\n",
    "paramx1.append([30*1e6,500,0,90,0,200])\n",
    "paramx1.append([50*1e6,500,50000,90,1,200])\n",
    "paramx1.append([70*1e6,500,45000,90,1,200])\n",
    "paramx1.append([90*1e6,500,40000,90,1,200])\n",
    "paramx1.append([110*1e6,500,35000,90,1,200])\n",
    "paramx1.append([130*1e6,500,0,90,1,200])\n",
    "paramx1.append([150*1e6,500,30000,90,1,200])\n",
    "paramx1.append([170*1e6,500,25000,90,1,200])\n",
    "paramx1.append([190*1e6,500,60000,90,1,200])\n",
    "paramx8 = []\n",
    "paramx8.append(paramx1)\n",
    "for i in range(1,9):\n",
    "    ch= i\n",
    "    handle_cmd.DefWaveGen(ch, trigdelay, paramx8)\n",
    "time.sleep(0.1) "
   ]
  },
  {
   "cell_type": "code",
   "execution_count": 17,
   "id": "bf0c8428",
   "metadata": {},
   "outputs": [],
   "source": [
    "#%%\n",
    "handle_cmd.close_channel([1,2,3,4,5,6,7,8])\n",
    "for i in range(1,9):\n",
    "    ch= i\n",
    "    trigdelay = [0]\n",
    "    fs = 2.4e9\n",
    "    wave_len =0 #连续输出，方便频谱上观看\n",
    "    amp = 8000 \n",
    "    phase = 0\n",
    "    win_type = 0 #不加窗\n",
    "    win_len = 0\n",
    "    n = 8\n",
    "    seqword_x8 = [[[0]]*1 for i in range(n)]\n",
    "    freq = 90e6\n",
    "    m = 0\n",
    "    # freq,len,amp,phase,win_type,win_len\n",
    "    for i in range(0,8,1):\n",
    "        seqword_x8[i][0]=[int(freq + i*2e6),wave_len,amp,phase,win_type,win_len]\n",
    "    handle_cmd.DefWaveGen(ch, trigdelay, seqword_x8)\n"
   ]
  },
  {
   "cell_type": "code",
   "execution_count": null,
   "id": "41ece9b4",
   "metadata": {},
   "outputs": [],
   "source": []
  },
  {
   "cell_type": "code",
   "execution_count": null,
   "id": "5d50d13a",
   "metadata": {},
   "outputs": [],
   "source": [
    "#90-104 step2MHz 8个频率波形叠加 连续波序列 \n",
    "handle_cmd.close_channel([1,2,3,4,5,6,7,8])  # 关闭通道\n",
    "ch= 2\n",
    "trigdelay = [0]\n",
    "fs = 2.4e9\n",
    "wave_len =0 #连续输出，方便频谱上观看\n",
    "amp = 8000 \n",
    "phase = 0\n",
    "win_type = 0 #不加窗\n",
    "win_len = 0\n",
    "n = 8\n",
    "seqword_x8 = [[[0]]*1 for i in range(n)]\n",
    "freq = 90e6\n",
    "m = 0\n",
    "# freq,len,amp,phase,win_type,win_len\n",
    "for i in range(0,8,1):\n",
    "    seqword_x8[i][0]=[int(freq + i*2e6),wave_len,amp,phase,win_type,win_len]\n",
    "handle_cmd.DefWaveGen(ch, trigdelay, seqword_x8)\n",
    "handle_cmd.open_channel([1,2,3,4,5,6,7,8])   # 打开通道"
   ]
  },
  {
   "cell_type": "code",
   "execution_count": null,
   "id": "d6ec230f",
   "metadata": {},
   "outputs": [],
   "source": [
    "#90-104 step2mhz频率叠加 开4us关4us波形序列\n",
    "handle_cmd.open_channel([1,2,3,4,5,6,7,8])   # 打开通道\n",
    "ch= 1\n",
    "trigdelay = [0]\n",
    "fs = 2.4e9\n",
    "pulse_width = 4000e-9\n",
    "wave_len = int(pulse_width/(1/fs))#脉冲\n",
    "# wave_len =0 #连续输出，方便频谱上观看\n",
    "amp = 8000 \n",
    "phase = 0\n",
    "win_type = 0\n",
    "# win_len = int(wave_len / 2)\n",
    "win_len = 0\n",
    "seqword = []\n",
    "n = 8\n",
    "seqword_x8 = [[[0]]*n for i in range(n)]\n",
    "freq = 10e6\n",
    "m = 0\n",
    "# freq,len,amp,phase,win_type,win_len\n",
    "for f in range(0,n,1):\n",
    "    if f % 2 :\n",
    "        amp = 0\n",
    "    else :\n",
    "        amp = 8000\n",
    "    for i in range(0,8,1):\n",
    "        seqword_x8[i][f]=[int(freq + i*2e6),wave_len,amp,phase,win_type,win_len]\n",
    "\n",
    "handle_cmd.DefWaveGen(ch, trigdelay, seqword_x8)"
   ]
  },
  {
   "cell_type": "code",
   "execution_count": null,
   "id": "4fe6cc4c",
   "metadata": {},
   "outputs": [],
   "source": [
    "#90mhz频率单dds 每隔1us 幅度降低10% 重复3次\n",
    "ch= 1\n",
    "trigdelay = [0]\n",
    "fs = 2.4e9\n",
    "pulse_width = 40e-9\n",
    "wave_len = int(pulse_width/(1/fs))\n",
    "amp = 65535 \n",
    "phase = 0\n",
    "win_type = 0\n",
    "win_len = 0\n",
    "seqword = []\n",
    "n = 30 #每个dds内的波形个数\n",
    "m = 1 #dds 叠加数量 1-8\n",
    "seqword_x8 = [[[0]]*n for i in range(m)]\n",
    "freq = 500e6\n",
    "m = 1 #dds 叠加数量 1-8\n",
    "# freq,len,amp,phase,win_type,win_len\n",
    "for i in range(0,n,1):\n",
    "    seqword_x8[0][i]=[freq,wave_len,int(amp*(1 - 0.1*(i % 10))),phase,win_type,win_len]\n",
    "\n",
    "handle_cmd.DefWaveGen(ch, trigdelay, seqword_x8)"
   ]
  },
  {
   "cell_type": "code",
   "execution_count": null,
   "id": "8f928a3e",
   "metadata": {},
   "outputs": [],
   "source": [
    "#8个波形各自输出完整波形的一段，再拼接成完整波形，验证相位连续性\n",
    "import random\n",
    "a = [1,2,3,4,5,6,7,8]\n",
    "random.shuffle(a)\n",
    "ch= 1\n",
    "trigdelay = [0]\n",
    "fs = 2.4e9\n",
    "pulse_width = 200e-9\n",
    "wave_len = int(pulse_width/(1/fs))\n",
    "amp = 50000 \n",
    "phase = 0\n",
    "win_type = 0\n",
    "# win_len = int(wave_len / 2)\n",
    "win_len = 0\n",
    "seqword = []\n",
    "n = 8\n",
    "m = 8\n",
    "seqword_x8 = [[[0]]*n for i in range(8)]\n",
    "freq = 10e6\n",
    "m = 0\n",
    "# freq,len,amp,phase,win_type,win_len\n",
    "for f in range(0,n,1):\n",
    "    for i in range(0,8,1):\n",
    "        if a[i] == (f % 8) + 1 :\n",
    "            amp = 50000\n",
    "        else :\n",
    "            amp = 0 \n",
    "        seqword_x8[i][f]=[int(freq),wave_len,amp,phase,win_type,win_len]            \n",
    "handle_cmd.DefWaveGen(ch, trigdelay, seqword_x8)\n"
   ]
  },
  {
   "cell_type": "code",
   "execution_count": null,
   "id": "0c0726d0",
   "metadata": {},
   "outputs": [],
   "source": [
    "handle_cmd.open_channel([1,2,3,4,5,6,7,8])   # 打开通道"
   ]
  },
  {
   "cell_type": "markdown",
   "id": "a58dc736",
   "metadata": {},
   "source": [
    "# 其他功能"
   ]
  },
  {
   "cell_type": "code",
   "execution_count": null,
   "id": "eca09ca5",
   "metadata": {},
   "outputs": [],
   "source": [
    "handle_cmd.change_dev_ip(\"eth\",\"192.168.110.100\")   #网口修改IP(eth：网口，uart：串口)"
   ]
  },
  {
   "cell_type": "code",
   "execution_count": null,
   "id": "f5cddb90",
   "metadata": {},
   "outputs": [],
   "source": [
    "handle_cmd.change_dev_ip(\"uart\",\"192.168.110.100\")   #串口修改IP(eth：网口，uart：串口)"
   ]
  },
  {
   "cell_type": "code",
   "execution_count": 33,
   "id": "0cdab4c6",
   "metadata": {},
   "outputs": [
    {
     "data": {
      "text/plain": [
       "[63.893951416015625, 66.91796875, 74.70059204101562, 69.46612548828125]"
      ]
     },
     "execution_count": 33,
     "metadata": {},
     "output_type": "execute_result"
    }
   ],
   "source": [
    "handle_cmd.get_temperature() #读取设备温度"
   ]
  },
  {
   "cell_type": "code",
   "execution_count": null,
   "id": "c34cd353",
   "metadata": {},
   "outputs": [],
   "source": [
    "for i in range(1,9,1):                            #DC模式默认电压设置（初始化0V）\n",
    "    handle_cmd.set_default_vbias(i,1) "
   ]
  },
  {
   "cell_type": "code",
   "execution_count": null,
   "id": "f839657f",
   "metadata": {},
   "outputs": [],
   "source": [
    "for i in range(1,9,1):\n",
    "    handle_cmd.set_rf_atten(i, 0)  # 通道设置输出功率衰减"
   ]
  },
  {
   "cell_type": "code",
   "execution_count": null,
   "id": "b5543063",
   "metadata": {},
   "outputs": [],
   "source": [
    "handle_cmd.set_refclk(\"ext_ref\", 10)  # 设置内外参考"
   ]
  },
  {
   "cell_type": "code",
   "execution_count": null,
   "id": "f6974375",
   "metadata": {},
   "outputs": [],
   "source": [
    "handle_cmd.set_refclk(\"int_ref\", 100)  # 设置内外参考"
   ]
  },
  {
   "cell_type": "code",
   "execution_count": 3,
   "id": "2446ed74",
   "metadata": {},
   "outputs": [
    {
     "data": {
      "text/plain": [
       "'192.168.1.104'"
      ]
     },
     "execution_count": 3,
     "metadata": {},
     "output_type": "execute_result"
    }
   ],
   "source": [
    "# import serial \n",
    "\n",
    "handle_cmd.open_uart(\"COM3\")  # 打开串口3,备后面获取IP\n",
    "\n",
    "handle_cmd.get_dev_ip()       # "
   ]
  },
  {
   "cell_type": "code",
   "execution_count": 23,
   "id": "e638ae24",
   "metadata": {},
   "outputs": [
    {
     "data": {
      "text/plain": [
       "True"
      ]
     },
     "execution_count": 23,
     "metadata": {},
     "output_type": "execute_result"
    }
   ],
   "source": [
    "handle_cmd.set_fan_speed(4699) #设置风扇速度"
   ]
  },
  {
   "cell_type": "code",
   "execution_count": null,
   "id": "9a2f0dcf",
   "metadata": {},
   "outputs": [],
   "source": [
    "handle_cmd.open_uart(\"\")"
   ]
  }
 ],
 "metadata": {
  "kernelspec": {
   "display_name": "Python 3.9.12 ('qcodes')",
   "language": "python",
   "name": "python3"
  },
  "language_info": {
   "codemirror_mode": {
    "name": "ipython",
    "version": 3
   },
   "file_extension": ".py",
   "mimetype": "text/x-python",
   "name": "python",
   "nbconvert_exporter": "python",
   "pygments_lexer": "ipython3",
   "version": "3.12.4"
  },
  "toc": {
   "base_numbering": 1,
   "nav_menu": {},
   "number_sections": true,
   "sideBar": true,
   "skip_h1_title": false,
   "title_cell": "Table of Contents",
   "title_sidebar": "Contents",
   "toc_cell": false,
   "toc_position": {},
   "toc_section_display": true,
   "toc_window_display": false
  },
  "vscode": {
   "interpreter": {
    "hash": "1b64c7d4b42b242c92a9da926bb3a0e3ecc04e6e6cf09f13c50c3e2e9ab60aab"
   }
  }
 },
 "nbformat": 4,
 "nbformat_minor": 5
}
